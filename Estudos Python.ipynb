{
 "cells": [
  {
   "cell_type": "markdown",
   "id": "f580490f",
   "metadata": {},
   "source": [
    "#Arthur Bernardo - Bolsista do Projeto de sistema de recomendação por competências do SOS-PME UFRGS#"
   ]
  },
  {
   "cell_type": "markdown",
   "id": "4e59733a",
   "metadata": {},
   "source": [
    "##Exercício 1##\n",
    "\n",
    "Criar uma função `maior(a,b)` retorna o maior valor entre `a` e `b`"
   ]
  },
  {
   "cell_type": "code",
   "execution_count": 1,
   "id": "81e2c78c",
   "metadata": {},
   "outputs": [
    {
     "name": "stdout",
     "output_type": "stream",
     "text": [
      "2\n",
      "5\n",
      "0\n",
      "100\n"
     ]
    }
   ],
   "source": [
    "def maior(numero1:int, numero2:int) -> int:\n",
    "    if(numero1 > numero2):\n",
    "        return numero1\n",
    "    else:\n",
    "        return numero2\n",
    "\n",
    "print(maior(1,2))\n",
    "print(maior(3,5))\n",
    "print(maior(0,-1))\n",
    "print(maior(100, 50))\n",
    "\n"
   ]
  },
  {
   "cell_type": "markdown",
   "id": "33bbae54",
   "metadata": {},
   "source": [
    "##Exercício 2##\n",
    "\n",
    "Criar uma função `soma(lista,x)` retorna a soma de todos os valores da lista, `x` deve ser opcional que, se passado, será somado ao resultado final"
   ]
  },
  {
   "cell_type": "code",
   "execution_count": 2,
   "id": "d350aa69",
   "metadata": {},
   "outputs": [
    {
     "name": "stdout",
     "output_type": "stream",
     "text": [
      "100\n",
      "6\n",
      "100\n"
     ]
    }
   ],
   "source": [
    "def soma(lista:int, x=0) -> int:\n",
    "    i = 0\n",
    "    soma = 0\n",
    "    while i <len(lista):\n",
    "        soma += lista[i]\n",
    "        i += 1\n",
    "    soma += x\n",
    "    return soma\n",
    "\n",
    "print(soma([0, 1, 2, 3, 50, 40], 4))\n",
    "print(soma([0, 1, 2, 3]))\n",
    "print(soma([0, 1, 2, 3, 4, 5, 6, 7, 8, 9, 10], 45))"
   ]
  },
  {
   "cell_type": "markdown",
   "id": "08554c61",
   "metadata": {},
   "source": [
    "##Exercício 3##\n",
    "\n",
    "Criar uma função `media(lista)` retorna a média dos valores passados pela lista"
   ]
  },
  {
   "cell_type": "code",
   "execution_count": 4,
   "id": "cf068d75",
   "metadata": {},
   "outputs": [
    {
     "name": "stdout",
     "output_type": "stream",
     "text": [
      "5.0\n",
      "6.333333333333333\n",
      "15.6\n"
     ]
    }
   ],
   "source": [
    "def media(lista:int) -> float:\n",
    "    i = 0\n",
    "    media = 0\n",
    "    while i < len(lista):\n",
    "        media += lista[i]\n",
    "        i += 1\n",
    "    media = media / len(lista)\n",
    "    return media\n",
    "\n",
    "\n",
    "print(media([5, 5]))\n",
    "print(media([2, 5, 7, 9, 8, 7]))\n",
    "print(media([8, 15, 17, 20 ,18]))"
   ]
  },
  {
   "cell_type": "markdown",
   "id": "458980ea",
   "metadata": {},
   "source": [
    "##Exercício 4##\n",
    "\n",
    "Criar uma função `valores_iguais(lista1,lista2)` retorna uma lista contendo os valores iguais entre as duas listas passadas como parâmetro"
   ]
  },
  {
   "cell_type": "code",
   "execution_count": 3,
   "id": "d233a660",
   "metadata": {},
   "outputs": [
    {
     "name": "stdout",
     "output_type": "stream",
     "text": [
      "[1, 2, 3, 4, 8]\n",
      "[1, 2, 3, 4, 5]\n",
      "[]\n"
     ]
    }
   ],
   "source": [
    "def valores_iguais(lista1:int, lista2:int) -> int:\n",
    "    x = 0\n",
    "    i = 0\n",
    "    lista_com_iguais = []\n",
    "    while i<len(lista1):\n",
    "        while x<len(lista2):\n",
    "            if(lista1[i] == lista2[x]):\n",
    "                lista_com_iguais.append(lista1[i])\n",
    "                break\n",
    "            x +=1 \n",
    "        x = 0   \n",
    "        i += 1\n",
    "\n",
    "    return lista_com_iguais\n",
    "\n",
    "print(valores_iguais([1,2,3,4,8], [2, 3, 8, 7, 9, 1, 4]))\n",
    "print(valores_iguais([1,2,3,4,5], [6, 7, 8, 9, 4, 2, 6, 5, 7, 10, 12, 1, 3]))\n",
    "print(valores_iguais([6, 7, 8, 9, 10], [1, 2, 3, 4, 5]))\n"
   ]
  },
  {
   "cell_type": "markdown",
   "id": "dfe5d208",
   "metadata": {},
   "source": [
    "##Exercício 5##\n",
    "\n",
    "Criar uma função `indice_prim_valor_igual(lista1,lista2)` retorna a posição na `lista1` do primeiro valor igual ao da `lista2`. Caso não exista, é retornado `None`"
   ]
  },
  {
   "cell_type": "code",
   "execution_count": 5,
   "id": "739e7174",
   "metadata": {},
   "outputs": [
    {
     "name": "stdout",
     "output_type": "stream",
     "text": [
      "1\n",
      "2\n",
      "3\n",
      "None\n"
     ]
    }
   ],
   "source": [
    "def indice_prim_valor_igual(lista1:int, lista2:int) -> int:\n",
    "    x = 0\n",
    "    i = 0\n",
    "    posicao = None\n",
    "    while i<len(lista1):\n",
    "        while x<len(lista2):\n",
    "            if(lista1[i] == lista2[x]):\n",
    "                posicao= i\n",
    "                break\n",
    "            x +=1\n",
    "        x = 0   \n",
    "        i += 1\n",
    "        if(posicao != None):\n",
    "            break\n",
    "\n",
    "\n",
    "    return posicao\n",
    "\n",
    "print(indice_prim_valor_igual([0, 1, 2, 3, 4, 5], [7, 8, 9, 10, 11, 1]))\n",
    "print(indice_prim_valor_igual([1, 0, 5, 7, 8], [7, 4, 8, 7, 5]))\n",
    "print(indice_prim_valor_igual([1, 0, 5, 7, 8], [ 4, 8, 7]))\n",
    "print(indice_prim_valor_igual([10, 12, 45, 75, 85], [7, 4, 8, 7, 5]))"
   ]
  }
 ],
 "metadata": {
  "kernelspec": {
   "display_name": "Python 3 (ipykernel)",
   "language": "python",
   "name": "python3"
  },
  "language_info": {
   "codemirror_mode": {
    "name": "ipython",
    "version": 3
   },
   "file_extension": ".py",
   "mimetype": "text/x-python",
   "name": "python",
   "nbconvert_exporter": "python",
   "pygments_lexer": "ipython3",
   "version": "3.10.2"
  }
 },
 "nbformat": 4,
 "nbformat_minor": 5
}
